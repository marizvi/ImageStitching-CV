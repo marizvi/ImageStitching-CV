{
 "cells": [
  {
   "cell_type": "code",
   "execution_count": 1,
   "metadata": {},
   "outputs": [],
   "source": [
    "import random\n",
    "\n",
    "import cv2\n",
    "import numpy as np"
   ]
  },
  {
   "cell_type": "code",
   "execution_count": 2,
   "metadata": {},
   "outputs": [],
   "source": [
    "def stitch_images(left_img, right_img):\n",
    "    key_points_left, descriptor_left, key_points_right, descriptor_right = get_keypoint(left_img, right_img)\n",
    "    good_matches = match_keypoint(key_points_left, key_points_right, descriptor_left, descriptor_right)\n",
    "    final_homography_matrix = ransac(good_matches)\n",
    "\n",
    "    rows1, cols1 = right_img.shape[:2]\n",
    "    rows2, cols2 = left_img.shape[:2]\n",
    "\n",
    "    points1 = np.float32([[0, 0], [0, rows1], [cols1, rows1], [cols1, 0]]).reshape(-1, 1, 2)\n",
    "    points = np.float32([[0, 0], [0, rows2], [cols2, rows2], [cols2, 0]]).reshape(-1, 1, 2)\n",
    "    points2 = cv2.perspectiveTransform(points, final_homography_matrix)\n",
    "    list_of_points = np.concatenate((points1, points2), axis=0)\n",
    "\n",
    "    [x_min, y_min] = np.int32(list_of_points.min(axis=0).ravel() - 0.5)\n",
    "    [x_max, y_max] = np.int32(list_of_points.max(axis=0).ravel() + 0.5)\n",
    "\n",
    "    translation_matrix = (np.array([[1, 0, (-x_min)], [0, 1, (-y_min)], [0, 0, 1]])).dot(final_homography_matrix)\n",
    "\n",
    "    output_img = cv2.warpPerspective(left_img, translation_matrix, (x_max - x_min, y_max - y_min))\n",
    "    output_img[(-y_min):rows1 + (-y_min), (-x_min):cols1 + (-x_min)] = right_img\n",
    "\n",
    "    return output_img\n",
    "\n",
    "\n",
    "def get_keypoint(left_img, right_img):\n",
    "    l_img = cv2.cvtColor(left_img, cv2.COLOR_BGR2GRAY)\n",
    "    r_img = cv2.cvtColor(right_img, cv2.COLOR_BGR2GRAY)\n",
    "\n",
    "    surf = cv2.xfeatures2d.SURF_create()\n",
    "    sift = cv2.xfeatures2d.SIFT_create()\n",
    "\n",
    "    key_points_left = sift.detect(l_img, None)\n",
    "    key_points_left, descriptor_left = surf.compute(l_img, key_points_left)\n",
    "\n",
    "    key_points_right = sift.detect(r_img, None)\n",
    "    key_points_right, descriptor_right = surf.compute(r_img, key_points_right)\n",
    "    return key_points_left, descriptor_left, key_points_right, descriptor_right\n",
    "\n",
    "\n",
    "def match_keypoint(key_points1, key_points2, descriptor1, descriptor2):\n",
    "    #k-Nearest neighbours between each descriptor\n",
    "    k_nearest_neighbors = 2\n",
    "    all_matches = []\n",
    "    for i, d1 in enumerate(descriptor1):\n",
    "        dist = []\n",
    "        for j, d2 in enumerate(descriptor2):\n",
    "            dist.append([i, j, np.linalg.norm(d1 - d2)])\n",
    "\n",
    "        dist.sort(key=lambda x: x[2])\n",
    "        all_matches.append(dist[0:k_nearest_neighbors])\n",
    "\n",
    "    # Ratio test to get good matches\n",
    "    good_matches = []\n",
    "\n",
    "    for m, n in all_matches:\n",
    "        if m[2] < 0.75 * n[2]:\n",
    "            left_pt = key_points1[m[0]].pt\n",
    "            right_pt = key_points2[m[1]].pt\n",
    "            good_matches.append(\n",
    "                [left_pt[0], left_pt[1], right_pt[0], right_pt[1]]\n",
    "            )\n",
    "\n",
    "    return good_matches\n",
    "\n",
    "\n",
    "def est_homography_matrix(points):\n",
    "    coefficient_matrix = []\n",
    "    for pt in points:\n",
    "        x, y = pt[0], pt[1]\n",
    "        X, Y = pt[2], pt[3]\n",
    "        coefficient_matrix.append([x, y, 1, 0, 0, 0, -1 * X * x, -1 * X * y, -1 * X])\n",
    "        coefficient_matrix.append([0, 0, 0, x, y, 1, -1 * Y * x, -1 * Y * y, -1 * Y])\n",
    "\n",
    "    coefficient_matrix = np.array(coefficient_matrix)\n",
    "    _, _, vh = np.linalg.svd(coefficient_matrix)\n",
    "    homography_matrix = (vh[-1, :].reshape(3, 3))\n",
    "    homography_matrix = homography_matrix / homography_matrix[2, 2]\n",
    "    return homography_matrix\n",
    "\n",
    "\n",
    "def ransac(good_pts, threshold=5):\n",
    "    best_inlier_points = []\n",
    "    final_h_matrix = []\n",
    "\n",
    "    for _ in range(5000):\n",
    "        random_pts = random.choices(good_pts, k=4)\n",
    "        current_h_matrix = est_homography_matrix(random_pts)\n",
    "\n",
    "        curr_inliers = []\n",
    "\n",
    "        for pt in good_pts:\n",
    "            src_pt = np.array([pt[0], pt[1], 1]).reshape(3, 1)\n",
    "            target_pt = np.array([pt[2], pt[3], 1]).reshape(3, 1)\n",
    "\n",
    "            transformed_src_pt = np.dot(current_h_matrix, src_pt)\n",
    "            transformed_src_pt = transformed_src_pt / transformed_src_pt[2]\n",
    "            dist = np.linalg.norm(target_pt - transformed_src_pt)\n",
    "\n",
    "            if dist < threshold:\n",
    "                curr_inliers.append(pt)\n",
    "\n",
    "        if len(curr_inliers) > len(best_inlier_points):\n",
    "            best_inlier_points, final_h_matrix = curr_inliers, current_h_matrix\n",
    "    return final_h_matrix"
   ]
  },
  {
   "cell_type": "code",
   "execution_count": 3,
   "metadata": {},
   "outputs": [
    {
     "data": {
      "text/plain": [
       "True"
      ]
     },
     "execution_count": 3,
     "metadata": {},
     "output_type": "execute_result"
    }
   ],
   "source": [
    "left_img = cv2.imread('data/left4.jpg')\n",
    "right_img = cv2.imread('data/right4.jpg')\n",
    "result_img = stitch_images(left_img, right_img)\n",
    "cv2.imwrite('results/task4_result.jpg', result_img)"
   ]
  },
  {
   "cell_type": "code",
   "execution_count": null,
   "metadata": {},
   "outputs": [],
   "source": []
  },
  {
   "cell_type": "code",
   "execution_count": null,
   "metadata": {},
   "outputs": [],
   "source": []
  }
 ],
 "metadata": {
  "kernelspec": {
   "display_name": "mytfenv",
   "language": "python",
   "name": "python3"
  },
  "language_info": {
   "codemirror_mode": {
    "name": "ipython",
    "version": 3
   },
   "file_extension": ".py",
   "mimetype": "text/x-python",
   "name": "python",
   "nbconvert_exporter": "python",
   "pygments_lexer": "ipython3",
   "version": "3.7.1"
  }
 },
 "nbformat": 4,
 "nbformat_minor": 2
}
